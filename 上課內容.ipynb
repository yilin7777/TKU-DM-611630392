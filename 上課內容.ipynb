{
 "cells": [
  {
   "cell_type": "code",
   "execution_count": 1,
   "id": "2df6d0ea-5e5a-46f2-b918-9bb5be5f7339",
   "metadata": {},
   "outputs": [
    {
     "name": "stdout",
     "output_type": "stream",
     "text": [
      "hi python\n"
     ]
    }
   ],
   "source": [
    "print(\"hi python\")"
   ]
  },
  {
   "cell_type": "code",
   "execution_count": 2,
   "id": "683202fb-a241-44a1-9426-24021d0997ac",
   "metadata": {},
   "outputs": [],
   "source": [
    "a=1"
   ]
  },
  {
   "cell_type": "code",
   "execution_count": 3,
   "id": "a2cdf7d7-f6c6-4bfd-80cc-d66be5514734",
   "metadata": {},
   "outputs": [],
   "source": [
    "b=2"
   ]
  },
  {
   "cell_type": "code",
   "execution_count": 4,
   "id": "e6ff66b6-f3d9-4581-93f3-c5ceb5c4f47c",
   "metadata": {},
   "outputs": [
    {
     "data": {
      "text/plain": [
       "1"
      ]
     },
     "execution_count": 4,
     "metadata": {},
     "output_type": "execute_result"
    }
   ],
   "source": [
    "a"
   ]
  },
  {
   "cell_type": "code",
   "execution_count": 5,
   "id": "e65b1d7a-670b-47c3-b0ca-ce1c11ae88da",
   "metadata": {},
   "outputs": [
    {
     "data": {
      "text/plain": [
       "2"
      ]
     },
     "execution_count": 5,
     "metadata": {},
     "output_type": "execute_result"
    }
   ],
   "source": [
    "b"
   ]
  },
  {
   "cell_type": "code",
   "execution_count": 6,
   "id": "791b97a6-e0e5-4f67-a099-fa8909115fec",
   "metadata": {},
   "outputs": [],
   "source": [
    "c=d=3"
   ]
  },
  {
   "cell_type": "code",
   "execution_count": 7,
   "id": "e8834803-4b30-43ce-a0af-c3729cf58940",
   "metadata": {},
   "outputs": [
    {
     "data": {
      "text/plain": [
       "3"
      ]
     },
     "execution_count": 7,
     "metadata": {},
     "output_type": "execute_result"
    }
   ],
   "source": [
    "c"
   ]
  },
  {
   "cell_type": "code",
   "execution_count": 8,
   "id": "6fdd1958-779d-4fbd-b57e-c46eeddce244",
   "metadata": {},
   "outputs": [
    {
     "data": {
      "text/plain": [
       "(3, 3)"
      ]
     },
     "execution_count": 8,
     "metadata": {},
     "output_type": "execute_result"
    }
   ],
   "source": [
    "c,d"
   ]
  },
  {
   "cell_type": "code",
   "execution_count": 9,
   "id": "1f19dec7-4220-471a-b935-95301f307dc9",
   "metadata": {},
   "outputs": [],
   "source": [
    "age,name=34,\"yi lin\""
   ]
  },
  {
   "cell_type": "code",
   "execution_count": 10,
   "id": "4a586848-e792-4770-866a-0136d98c722e",
   "metadata": {},
   "outputs": [
    {
     "data": {
      "text/plain": [
       "'yi lin'"
      ]
     },
     "execution_count": 10,
     "metadata": {},
     "output_type": "execute_result"
    }
   ],
   "source": [
    "name"
   ]
  },
  {
   "cell_type": "code",
   "execution_count": 12,
   "id": "175e3359-6fa2-40cd-9f73-baa4ba21b311",
   "metadata": {},
   "outputs": [],
   "source": [
    "str1=\"yi lin say:hi!\""
   ]
  },
  {
   "cell_type": "code",
   "execution_count": 13,
   "id": "2c71b54d-19ad-4215-88b4-b2335b566a1f",
   "metadata": {},
   "outputs": [
    {
     "data": {
      "text/plain": [
       "'yi lin say:hi!'"
      ]
     },
     "execution_count": 13,
     "metadata": {},
     "output_type": "execute_result"
    }
   ],
   "source": [
    "str1"
   ]
  },
  {
   "cell_type": "code",
   "execution_count": 14,
   "id": "2c41a4ad-3d97-4387-aea2-1427f40b4c5c",
   "metadata": {},
   "outputs": [
    {
     "name": "stdout",
     "output_type": "stream",
     "text": [
      "1 2 3\n"
     ]
    }
   ],
   "source": [
    "print(a,b,c)"
   ]
  },
  {
   "cell_type": "code",
   "execution_count": 15,
   "id": "98957785-e06f-4b08-8bc3-14796ef7f0e9",
   "metadata": {},
   "outputs": [
    {
     "name": "stdout",
     "output_type": "stream",
     "text": [
      "[1, 2, 3]\n"
     ]
    }
   ],
   "source": [
    "print([a,b,c])"
   ]
  },
  {
   "cell_type": "code",
   "execution_count": 16,
   "id": "cc7bac8a-b767-4dde-8c1c-714b0061dd13",
   "metadata": {},
   "outputs": [
    {
     "name": "stdout",
     "output_type": "stream",
     "text": [
      "1 [2, 3]\n"
     ]
    }
   ],
   "source": [
    "print(a,[b,c])"
   ]
  },
  {
   "cell_type": "code",
   "execution_count": 18,
   "id": "0cdf68fe-ad20-4685-a5e8-a37479bfb834",
   "metadata": {},
   "outputs": [],
   "source": [
    "國文=50\n",
    "英文=60\n",
    "數學=70"
   ]
  },
  {
   "cell_type": "code",
   "execution_count": null,
   "id": "4156530d-f3cd-46f4-b449-ac62fba364e1",
   "metadata": {},
   "outputs": [],
   "source": []
  },
  {
   "cell_type": "code",
   "execution_count": null,
   "id": "fe27554a-206b-4489-b148-b2bfc569b74d",
   "metadata": {},
   "outputs": [],
   "source": []
  }
 ],
 "metadata": {
  "kernelspec": {
   "display_name": "Python 3 (ipykernel)",
   "language": "python",
   "name": "python3"
  },
  "language_info": {
   "codemirror_mode": {
    "name": "ipython",
    "version": 3
   },
   "file_extension": ".py",
   "mimetype": "text/x-python",
   "name": "python",
   "nbconvert_exporter": "python",
   "pygments_lexer": "ipython3",
   "version": "3.9.12"
  }
 },
 "nbformat": 4,
 "nbformat_minor": 5
}
