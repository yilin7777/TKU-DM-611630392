{
 "cells": [
  {
   "cell_type": "code",
   "execution_count": 1,
   "id": "8114f61b",
   "metadata": {},
   "outputs": [
    {
     "name": "stdout",
     "output_type": "stream",
     "text": [
      " 磁碟區 C 中的磁碟是 Windows\n",
      " 磁碟區序號:  A631-A59D\n",
      "\n",
      " C:\\Users\\user\\dm\\TKU-DM-611630392 的目錄\n",
      "\n",
      "2022/09/29  上午 10:21    <DIR>          .\n",
      "2022/09/28  下午 11:50    <DIR>          ..\n",
      "2022/09/29  上午 10:21    <DIR>          .ipynb_checkpoints\n",
      "2022/09/29  上午 01:03            34,641 0922.ipynb\n",
      "2022/09/29  上午 10:21                72 0929.ipynb\n",
      "2022/09/28  下午 11:50                28 README.md\n",
      "2022/09/29  上午 01:01           151,247 scores.csv\n",
      "2022/09/28  下午 11:50             1,423 Untitled2.ipynb\n",
      "2022/09/28  下午 11:50             5,459 上課內容.ipynb\n",
      "               6 個檔案         192,870 位元組\n",
      "               3 個目錄  920,200,646,656 位元組可用\n"
     ]
    }
   ],
   "source": [
    "ls"
   ]
  },
  {
   "cell_type": "code",
   "execution_count": 9,
   "id": "d4892547",
   "metadata": {},
   "outputs": [
    {
     "name": "stdout",
     "output_type": "stream",
     "text": [
      "Overwriting hi.py\n"
     ]
    }
   ],
   "source": [
    "%%writefile hi.py\n",
    "print(\"hi 929\")\n",
    "#新增檔案使用"
   ]
  },
  {
   "cell_type": "code",
   "execution_count": 8,
   "id": "6312ca39",
   "metadata": {},
   "outputs": [
    {
     "name": "stdout",
     "output_type": "stream",
     "text": [
      "hi 929\n"
     ]
    }
   ],
   "source": [
    "run hi.py"
   ]
  },
  {
   "cell_type": "code",
   "execution_count": 10,
   "id": "151904a7",
   "metadata": {},
   "outputs": [],
   "source": [
    "a=1"
   ]
  },
  {
   "cell_type": "code",
   "execution_count": 11,
   "id": "5b24262c",
   "metadata": {},
   "outputs": [],
   "source": [
    "b=2"
   ]
  },
  {
   "cell_type": "code",
   "execution_count": 33,
   "id": "b925b863",
   "metadata": {},
   "outputs": [
    {
     "name": "stdout",
     "output_type": "stream",
     "text": [
      "Variable   Type       Data/Info\n",
      "-------------------------------\n",
      "a          int        1\n",
      "b          int        2\n",
      "np         module     <module 'numpy' from 'C:\\<...>ges\\\\numpy\\\\__init__.py'>\n",
      "np1        ndarray    4: 4 elems, type `int32`, 16 bytes\n",
      "np2        ndarray    4: 4 elems, type `int32`, 16 bytes\n",
      "np3        ndarray    16: 16 elems, type `int32`, 64 bytes\n",
      "np4        ndarray    10: 10 elems, type `float64`, 80 bytes\n",
      "np5        ndarray    5: 5 elems, type `float64`, 40 bytes\n",
      "np6        ndarray    5x2: 10 elems, type `float64`, 80 bytes\n",
      "np7        ndarray    5x3: 15 elems, type `float64`, 120 bytes\n"
     ]
    }
   ],
   "source": [
    "whos\n",
    "#確認變數有那些東西 要記起來"
   ]
  },
  {
   "cell_type": "code",
   "execution_count": 13,
   "id": "bd78acd5",
   "metadata": {
    "scrolled": true
   },
   "outputs": [
    {
     "name": "stdout",
     "output_type": "stream",
     "text": [
      "Requirement already satisfied: Numpy in c:\\users\\user\\anaconda3\\lib\\site-packages (1.21.5)\n",
      "Note: you may need to restart the kernel to use updated packages.\n"
     ]
    }
   ],
   "source": [
    "pip install Numpy"
   ]
  },
  {
   "cell_type": "code",
   "execution_count": 16,
   "id": "97d0448d",
   "metadata": {},
   "outputs": [],
   "source": [
    "import numpy as np\n",
    "#縮寫"
   ]
  },
  {
   "cell_type": "code",
   "execution_count": 17,
   "id": "d023128d",
   "metadata": {},
   "outputs": [
    {
     "name": "stdout",
     "output_type": "stream",
     "text": [
      "[1 2 3 4]\n",
      "[5 6 7 8]\n",
      "<class 'numpy.ndarray'> <class 'numpy.ndarray'>\n"
     ]
    }
   ],
   "source": [
    "np1=np.array([1,2,3,4])\n",
    "np2=np.array((5,6,7,8)) #np宣告型態 資料很大用array會有限制 用np方式建立沒有這麼多限制\n",
    "print(np1)\n",
    "print(np2)\n",
    "print(type(np1),type(np2))\n",
    "#type資料型態"
   ]
  },
  {
   "cell_type": "code",
   "execution_count": 20,
   "id": "e07a2c66",
   "metadata": {},
   "outputs": [
    {
     "name": "stdout",
     "output_type": "stream",
     "text": [
      "[ 0  2  4  6  8 10 12 14 16 18 20 22 24 26 28 30]\n"
     ]
    }
   ],
   "source": [
    "np3=np.arange(0,31,2)\n",
    "print (np3) \n",
    "#0~30 用2來當間隔"
   ]
  },
  {
   "cell_type": "code",
   "execution_count": 21,
   "id": "5d9fbad0",
   "metadata": {},
   "outputs": [],
   "source": [
    "np4=np.linspace(1,15,3)"
   ]
  },
  {
   "cell_type": "code",
   "execution_count": 22,
   "id": "8cea12c7",
   "metadata": {},
   "outputs": [
    {
     "name": "stdout",
     "output_type": "stream",
     "text": [
      "[ 1.  8. 15.]\n"
     ]
    }
   ],
   "source": [
    "print (np4)"
   ]
  },
  {
   "cell_type": "code",
   "execution_count": 23,
   "id": "cfc93667",
   "metadata": {},
   "outputs": [],
   "source": [
    "np4=np.linspace(1,10,10)"
   ]
  },
  {
   "cell_type": "code",
   "execution_count": 25,
   "id": "ee6b86c7",
   "metadata": {},
   "outputs": [
    {
     "data": {
      "text/plain": [
       "array([ 1.,  2.,  3.,  4.,  5.,  6.,  7.,  8.,  9., 10.])"
      ]
     },
     "execution_count": 25,
     "metadata": {},
     "output_type": "execute_result"
    }
   ],
   "source": [
    "np4"
   ]
  },
  {
   "cell_type": "code",
   "execution_count": 26,
   "id": "4bd2da6d",
   "metadata": {},
   "outputs": [
    {
     "name": "stdout",
     "output_type": "stream",
     "text": [
      "[0. 0. 0. 0. 0.]\n"
     ]
    }
   ],
   "source": [
    "np5=np.zeros((5,))\n",
    "print (np5)\n",
    "#填5個0"
   ]
  },
  {
   "cell_type": "code",
   "execution_count": 27,
   "id": "ce9231bf",
   "metadata": {},
   "outputs": [
    {
     "name": "stdout",
     "output_type": "stream",
     "text": [
      "[1. 1. 1. 1. 1.]\n"
     ]
    }
   ],
   "source": [
    "np6=np.ones((5,))\n",
    "print (np6)"
   ]
  },
  {
   "cell_type": "code",
   "execution_count": 30,
   "id": "b1c2d880",
   "metadata": {},
   "outputs": [
    {
     "name": "stdout",
     "output_type": "stream",
     "text": [
      "[[1. 1.]\n",
      " [1. 1.]\n",
      " [1. 1.]\n",
      " [1. 1.]\n",
      " [1. 1.]]\n"
     ]
    }
   ],
   "source": [
    "np7=np.ones((5,2))\n",
    "print (np7)\n",
    "#都填1但是array就兩個數"
   ]
  },
  {
   "cell_type": "code",
   "execution_count": 31,
   "id": "0d4ed795",
   "metadata": {},
   "outputs": [
    {
     "name": "stdout",
     "output_type": "stream",
     "text": [
      "[[1. 1. 1.]\n",
      " [1. 1. 1.]\n",
      " [1. 1. 1.]\n",
      " [1. 1. 1.]\n",
      " [1. 1. 1.]]\n"
     ]
    }
   ],
   "source": [
    "np7=np.ones((5,3))\n",
    "print (np7)"
   ]
  },
  {
   "cell_type": "code",
   "execution_count": 34,
   "id": "ebd09606",
   "metadata": {},
   "outputs": [
    {
     "name": "stdout",
     "output_type": "stream",
     "text": [
      "[[ 1  2  3  4  5]\n",
      " [ 6  7  8  9 10]]\n"
     ]
    }
   ],
   "source": [
    "listdata=[[1,2,3,4,5],[6,7,8,9,10]]\n",
    "np8=np.array(listdata)\n",
    "print(np8)"
   ]
  },
  {
   "cell_type": "code",
   "execution_count": 35,
   "id": "11bf6139",
   "metadata": {},
   "outputs": [
    {
     "name": "stdout",
     "output_type": "stream",
     "text": [
      "維度 2\n"
     ]
    }
   ],
   "source": [
    "print('維度',np8.ndim)\n",
    "#確認資料型態"
   ]
  },
  {
   "cell_type": "code",
   "execution_count": 36,
   "id": "702dbb88",
   "metadata": {},
   "outputs": [
    {
     "name": "stdout",
     "output_type": "stream",
     "text": [
      "形狀 (2, 5)\n"
     ]
    }
   ],
   "source": [
    "print('形狀',np8.shape)"
   ]
  },
  {
   "cell_type": "code",
   "execution_count": 37,
   "id": "be7d6745",
   "metadata": {},
   "outputs": [
    {
     "name": "stdout",
     "output_type": "stream",
     "text": [
      "數量 10\n"
     ]
    }
   ],
   "source": [
    "print('數量',np8.size)"
   ]
  },
  {
   "cell_type": "code",
   "execution_count": 38,
   "id": "c3006418",
   "metadata": {},
   "outputs": [],
   "source": [
    "np9=np.arange(1,21)"
   ]
  },
  {
   "cell_type": "code",
   "execution_count": 39,
   "id": "7cf2afef",
   "metadata": {},
   "outputs": [
    {
     "data": {
      "text/plain": [
       "array([ 1,  2,  3,  4,  5,  6,  7,  8,  9, 10, 11, 12, 13, 14, 15, 16, 17,\n",
       "       18, 19, 20])"
      ]
     },
     "execution_count": 39,
     "metadata": {},
     "output_type": "execute_result"
    }
   ],
   "source": [
    "np9"
   ]
  },
  {
   "cell_type": "code",
   "execution_count": 40,
   "id": "bc0e9c74",
   "metadata": {},
   "outputs": [
    {
     "name": "stdout",
     "output_type": "stream",
     "text": [
      "[ 1  2  3  4  5  6  7  8  9 10 11 12 13 14 15 16 17 18 19 20]\n"
     ]
    }
   ],
   "source": [
    "print(np9)"
   ]
  },
  {
   "cell_type": "code",
   "execution_count": 41,
   "id": "2dac1d7a",
   "metadata": {},
   "outputs": [
    {
     "name": "stdout",
     "output_type": "stream",
     "text": [
      "[[ 1  2  3  4  5]\n",
      " [ 6  7  8  9 10]\n",
      " [11 12 13 14 15]\n",
      " [16 17 18 19 20]]\n"
     ]
    }
   ],
   "source": [
    "np10=np9.reshape(4,5)\n",
    "print(np10)\n",
    "#轉換矩陣的時候數字要對!!  1~20放到4乘5的araay"
   ]
  },
  {
   "cell_type": "code",
   "execution_count": 43,
   "id": "f9fee5ce",
   "metadata": {},
   "outputs": [
    {
     "name": "stdout",
     "output_type": "stream",
     "text": [
      "[[ 1  2  3  4]\n",
      " [ 5  6  7  8]\n",
      " [ 9 10 11 12]\n",
      " [13 14 15 16]\n",
      " [17 18 19 20]]\n"
     ]
    }
   ],
   "source": [
    "np10a=np9.reshape(5,4)\n",
    "print(np10a)"
   ]
  },
  {
   "cell_type": "code",
   "execution_count": 47,
   "id": "9c23e6bd",
   "metadata": {},
   "outputs": [],
   "source": [
    "np11=np.arange(0,9)"
   ]
  },
  {
   "cell_type": "code",
   "execution_count": 48,
   "id": "1b84ce52",
   "metadata": {},
   "outputs": [
    {
     "name": "stdout",
     "output_type": "stream",
     "text": [
      "[0 1 2 3 4 5 6 7 8]\n"
     ]
    }
   ],
   "source": [
    "print(np11)"
   ]
  },
  {
   "cell_type": "code",
   "execution_count": 49,
   "id": "7e45d8bf",
   "metadata": {},
   "outputs": [
    {
     "name": "stdout",
     "output_type": "stream",
     "text": [
      "0\n"
     ]
    }
   ],
   "source": [
    "print(np11[0])"
   ]
  },
  {
   "cell_type": "code",
   "execution_count": 50,
   "id": "96a73d66",
   "metadata": {},
   "outputs": [
    {
     "name": "stdout",
     "output_type": "stream",
     "text": [
      "7\n"
     ]
    }
   ],
   "source": [
    "print(np11[7])"
   ]
  },
  {
   "cell_type": "code",
   "execution_count": 51,
   "id": "e68581c7",
   "metadata": {},
   "outputs": [
    {
     "name": "stdout",
     "output_type": "stream",
     "text": [
      "[1 2 3 4 5 6]\n"
     ]
    }
   ],
   "source": [
    "print(np11[1:7])"
   ]
  },
  {
   "cell_type": "code",
   "execution_count": 52,
   "id": "3bea4508",
   "metadata": {},
   "outputs": [
    {
     "name": "stdout",
     "output_type": "stream",
     "text": [
      "[1 3 5 7]\n"
     ]
    }
   ],
   "source": [
    "print(np11[1:8:2])"
   ]
  },
  {
   "cell_type": "code",
   "execution_count": 53,
   "id": "805034de",
   "metadata": {},
   "outputs": [
    {
     "name": "stdout",
     "output_type": "stream",
     "text": [
      "[8 7 6 5 4 3 2]\n"
     ]
    }
   ],
   "source": [
    "print(np11[8:1:-1])"
   ]
  },
  {
   "cell_type": "code",
   "execution_count": 54,
   "id": "ff754f95",
   "metadata": {},
   "outputs": [
    {
     "name": "stdout",
     "output_type": "stream",
     "text": [
      "[0 1 2 3 4 5 6 7 8]\n"
     ]
    }
   ],
   "source": [
    "print(np11[:])"
   ]
  },
  {
   "cell_type": "code",
   "execution_count": 55,
   "id": "66876c12",
   "metadata": {},
   "outputs": [
    {
     "name": "stdout",
     "output_type": "stream",
     "text": [
      "[0 1 2 3]\n"
     ]
    }
   ],
   "source": [
    "print(np11[:4])\n",
    "#只印到4"
   ]
  },
  {
   "cell_type": "code",
   "execution_count": 56,
   "id": "0beefcf4",
   "metadata": {},
   "outputs": [
    {
     "name": "stdout",
     "output_type": "stream",
     "text": [
      "[4 5 6 7 8]\n"
     ]
    }
   ],
   "source": [
    "print(np11[4:])\n",
    "#從4開始印"
   ]
  },
  {
   "cell_type": "code",
   "execution_count": 57,
   "id": "d4372dee",
   "metadata": {},
   "outputs": [],
   "source": [
    "np12=np.arange(1,21).reshape(5,4)\n",
    "#reshape用多少值要幾*幾\n",
    "#多維是立體的概念"
   ]
  },
  {
   "cell_type": "code",
   "execution_count": 58,
   "id": "7e611d49",
   "metadata": {},
   "outputs": [
    {
     "data": {
      "text/plain": [
       "array([[ 1,  2,  3,  4],\n",
       "       [ 5,  6,  7,  8],\n",
       "       [ 9, 10, 11, 12],\n",
       "       [13, 14, 15, 16],\n",
       "       [17, 18, 19, 20]])"
      ]
     },
     "execution_count": 58,
     "metadata": {},
     "output_type": "execute_result"
    }
   ],
   "source": [
    "np12"
   ]
  },
  {
   "cell_type": "code",
   "execution_count": 59,
   "id": "9da1590e",
   "metadata": {},
   "outputs": [
    {
     "data": {
      "text/plain": [
       "3"
      ]
     },
     "execution_count": 59,
     "metadata": {},
     "output_type": "execute_result"
    }
   ],
   "source": [
    "np12[0,2]\n",
    "#從0開始算第三位\n",
    "#[第幾排,第幾位]"
   ]
  },
  {
   "cell_type": "code",
   "execution_count": 60,
   "id": "e00b6d3c",
   "metadata": {},
   "outputs": [
    {
     "data": {
      "text/plain": [
       "7"
      ]
     },
     "execution_count": 60,
     "metadata": {},
     "output_type": "execute_result"
    }
   ],
   "source": [
    "np12[1,2]"
   ]
  },
  {
   "cell_type": "code",
   "execution_count": 61,
   "id": "d3a24e0a",
   "metadata": {},
   "outputs": [
    {
     "data": {
      "text/plain": [
       "4"
      ]
     },
     "execution_count": 61,
     "metadata": {},
     "output_type": "execute_result"
    }
   ],
   "source": [
    "np12[0,3]"
   ]
  },
  {
   "cell_type": "code",
   "execution_count": 63,
   "id": "b4e1577e",
   "metadata": {},
   "outputs": [
    {
     "name": "stdout",
     "output_type": "stream",
     "text": [
      "[ 7 11]\n"
     ]
    }
   ],
   "source": [
    "print(np12[1:3,2])"
   ]
  },
  {
   "cell_type": "code",
   "execution_count": 64,
   "id": "d8ad7774",
   "metadata": {},
   "outputs": [
    {
     "name": "stdout",
     "output_type": "stream",
     "text": [
      "[[ 6  7]\n",
      " [10 11]]\n"
     ]
    }
   ],
   "source": [
    "print(np12[1:3,1:3])"
   ]
  },
  {
   "cell_type": "code",
   "execution_count": 65,
   "id": "1fa1d1d5",
   "metadata": {},
   "outputs": [
    {
     "name": "stdout",
     "output_type": "stream",
     "text": [
      "[[ 1  3]\n",
      " [ 9 11]\n",
      " [17 19]]\n"
     ]
    }
   ],
   "source": [
    "print(np12[::2,::2])"
   ]
  },
  {
   "cell_type": "code",
   "execution_count": 66,
   "id": "893043ce",
   "metadata": {},
   "outputs": [
    {
     "name": "stdout",
     "output_type": "stream",
     "text": [
      "[ 3  7 11 15 19]\n"
     ]
    }
   ],
   "source": [
    "print(np12[:,2])"
   ]
  },
  {
   "cell_type": "code",
   "execution_count": 67,
   "id": "72da7d16",
   "metadata": {},
   "outputs": [
    {
     "name": "stdout",
     "output_type": "stream",
     "text": [
      "[5 6 7 8]\n"
     ]
    }
   ],
   "source": [
    "print(np12[1,:])"
   ]
  },
  {
   "cell_type": "code",
   "execution_count": 68,
   "id": "e23961fc",
   "metadata": {},
   "outputs": [
    {
     "name": "stdout",
     "output_type": "stream",
     "text": [
      "[[ 1  2  3  4]\n",
      " [ 5  6  7  8]\n",
      " [ 9 10 11 12]\n",
      " [13 14 15 16]\n",
      " [17 18 19 20]]\n"
     ]
    }
   ],
   "source": [
    "print(np12[:,:])"
   ]
  },
  {
   "cell_type": "code",
   "execution_count": 70,
   "id": "6c1c7d7a",
   "metadata": {},
   "outputs": [],
   "source": [
    "np12 = np.genfromtxt('scores.csv', delimiter=',', skip_header=1)"
   ]
  },
  {
   "cell_type": "code",
   "execution_count": 71,
   "id": "5f7fb327",
   "metadata": {},
   "outputs": [
    {
     "data": {
      "text/plain": [
       "array([[ 1., 87., 85., 82.],\n",
       "       [ 2., 92., 87., 90.],\n",
       "       [ 3., 80., 91., 87.],\n",
       "       [ 4., 78., 82., 95.],\n",
       "       [ 5., 88., 89., 90.],\n",
       "       [ 6., 82., 87., 88.],\n",
       "       [ 7., 90., 92., 82.],\n",
       "       [ 8., 87., 80., 90.],\n",
       "       [ 9., 95., 78., 87.],\n",
       "       [10., 90., 88., 95.],\n",
       "       [11., 88., 89., 75.],\n",
       "       [12., 82., 91., 66.],\n",
       "       [13., 90., 82., 87.],\n",
       "       [14., 87., 89., 92.],\n",
       "       [15., 95., 87., 80.],\n",
       "       [16., 90., 92., 78.],\n",
       "       [17., 82., 80., 88.],\n",
       "       [18., 90., 78., 93.],\n",
       "       [19., 67., 87., 95.],\n",
       "       [20., 91., 82., 88.],\n",
       "       [21., 82., 81., 82.],\n",
       "       [22., 79., 87., 90.],\n",
       "       [23., 87., 92., 87.],\n",
       "       [24., 92., 82., 95.],\n",
       "       [25., 80., 90., 78.],\n",
       "       [26., 78., 76., 91.],\n",
       "       [27., 66., 90., 82.],\n",
       "       [28., 89., 77., 89.],\n",
       "       [29., 87., 95., 87.],\n",
       "       [30., 73., 90., 92.]])"
      ]
     },
     "execution_count": 71,
     "metadata": {},
     "output_type": "execute_result"
    }
   ],
   "source": [
    "np12"
   ]
  },
  {
   "cell_type": "code",
   "execution_count": 88,
   "id": "58399572",
   "metadata": {},
   "outputs": [],
   "source": [
    "np9999 = np.genfromtxt('B2B發票匯入格式sample_big5.csv', delimiter=',', skip_header=1)\n",
    "#作業 下載csv檔案 匯入"
   ]
  },
  {
   "cell_type": "code",
   "execution_count": 89,
   "id": "10c1f325",
   "metadata": {},
   "outputs": [
    {
     "name": "stdout",
     "output_type": "stream",
     "text": [
      "[[1.e+00 7.e+00 1.e+00 2.e+00 1.e+00 1.e+03 1.e+00 1.e+03]\n",
      " [2.e+00 8.e+00 2.e+00 3.e+00 2.e+00 2.e+03 2.e+00 4.e+03]\n",
      " [3.e+00 9.e+00 3.e+00 4.e+00 1.e+00 5.e+02 1.e+00 5.e+02]\n",
      " [4.e+00 1.e+01 4.e+00 5.e+00 2.e+00 3.e+02 2.e+00 6.e+02]]\n"
     ]
    }
   ],
   "source": [
    "print(np9999)"
   ]
  },
  {
   "cell_type": "code",
   "execution_count": 90,
   "id": "54a2a1dc",
   "metadata": {},
   "outputs": [
    {
     "name": "stdout",
     "output_type": "stream",
     "text": [
      " 磁碟區 C 中的磁碟是 Windows\n",
      " 磁碟區序號:  A631-A59D\n",
      "\n",
      " C:\\Users\\user\\dm\\TKU-DM-611630392 的目錄\n",
      "\n",
      "2022/09/29  上午 11:57    <DIR>          .\n",
      "2022/09/28  下午 11:50    <DIR>          ..\n",
      "2022/09/29  上午 10:21    <DIR>          .ipynb_checkpoints\n",
      "2022/09/29  上午 01:03            34,641 0922.ipynb\n",
      "2022/09/29  上午 11:57            19,421 0929.ipynb\n",
      "2022/09/29  上午 11:49               200 B2B發票匯入格式sample_big5.csv\n",
      "2022/09/29  上午 10:25                38 hi.py\n",
      "2022/09/28  下午 11:50                28 README.md\n",
      "2022/09/29  上午 11:34               409 scores.csv\n",
      "2022/09/28  下午 11:50             1,423 Untitled2.ipynb\n",
      "2022/09/28  下午 11:50             5,459 上課內容.ipynb\n",
      "               8 個檔案          61,619 位元組\n",
      "               3 個目錄  920,183,119,872 位元組可用\n"
     ]
    }
   ],
   "source": [
    "ls"
   ]
  },
  {
   "cell_type": "code",
   "execution_count": null,
   "id": "b2fed681",
   "metadata": {},
   "outputs": [],
   "source": []
  }
 ],
 "metadata": {
  "kernelspec": {
   "display_name": "Python 3 (ipykernel)",
   "language": "python",
   "name": "python3"
  },
  "language_info": {
   "codemirror_mode": {
    "name": "ipython",
    "version": 3
   },
   "file_extension": ".py",
   "mimetype": "text/x-python",
   "name": "python",
   "nbconvert_exporter": "python",
   "pygments_lexer": "ipython3",
   "version": "3.9.12"
  }
 },
 "nbformat": 4,
 "nbformat_minor": 5
}
