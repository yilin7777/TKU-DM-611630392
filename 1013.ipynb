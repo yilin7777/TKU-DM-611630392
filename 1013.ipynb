{
 "cells": [
  {
   "cell_type": "code",
   "execution_count": 1,
   "id": "6eab26bd",
   "metadata": {},
   "outputs": [
    {
     "name": "stdout",
     "output_type": "stream",
     "text": [
      "Requirement already satisfied: pandas in c:\\users\\user\\anaconda3\\lib\\site-packages (1.4.2)\n",
      "Requirement already satisfied: numpy>=1.18.5 in c:\\users\\user\\anaconda3\\lib\\site-packages (from pandas) (1.21.5)\n",
      "Requirement already satisfied: pytz>=2020.1 in c:\\users\\user\\anaconda3\\lib\\site-packages (from pandas) (2021.3)\n",
      "Requirement already satisfied: python-dateutil>=2.8.1 in c:\\users\\user\\anaconda3\\lib\\site-packages (from pandas) (2.8.2)\n",
      "Requirement already satisfied: six>=1.5 in c:\\users\\user\\anaconda3\\lib\\site-packages (from python-dateutil>=2.8.1->pandas) (1.16.0)\n"
     ]
    }
   ],
   "source": [
    "!pip install  pandas"
   ]
  },
  {
   "cell_type": "code",
   "execution_count": 2,
   "id": "4842d7c6",
   "metadata": {},
   "outputs": [],
   "source": [
    "import pandas as pd"
   ]
  },
  {
   "cell_type": "code",
   "execution_count": 3,
   "id": "4f46bd5f",
   "metadata": {},
   "outputs": [
    {
     "data": {
      "text/plain": [
       "<module 'pandas' from 'C:\\\\Users\\\\user\\\\anaconda3\\\\lib\\\\site-packages\\\\pandas\\\\__init__.py'>"
      ]
     },
     "execution_count": 3,
     "metadata": {},
     "output_type": "execute_result"
    }
   ],
   "source": [
    "pd"
   ]
  },
  {
   "cell_type": "code",
   "execution_count": 4,
   "id": "ab632497",
   "metadata": {},
   "outputs": [
    {
     "name": "stdout",
     "output_type": "stream",
     "text": [
      "0    1\n",
      "1    2\n",
      "2    3\n",
      "3    4\n",
      "4    5\n",
      "dtype: int64\n",
      "[1 2 3 4 5]\n",
      "RangeIndex(start=0, stop=5, step=1)\n"
     ]
    }
   ],
   "source": [
    "hipandas=pd.Series([1,2,3,4,5])\n",
    "print(hipandas)\n",
    "print(hipandas.values)\n",
    "print(hipandas.index)"
   ]
  },
  {
   "cell_type": "code",
   "execution_count": 5,
   "id": "d6705cbb",
   "metadata": {},
   "outputs": [
    {
     "name": "stdout",
     "output_type": "stream",
     "text": [
      "0    2\n",
      "1    3\n",
      "2    4\n",
      "3    5\n",
      "4    6\n",
      "dtype: int64\n",
      "[2 3 4 5 6]\n",
      "RangeIndex(start=0, stop=5, step=1)\n"
     ]
    }
   ],
   "source": [
    "hipandas1=pd.Series([2,3,4,5,6])\n",
    "print(hipandas1)\n",
    "print(hipandas1.values)\n",
    "print(hipandas1.index)"
   ]
  },
  {
   "cell_type": "code",
   "execution_count": 26,
   "id": "ed1e094c",
   "metadata": {},
   "outputs": [],
   "source": [
    "dict1={'taipei':'台北','taichung':'台中','kaohsiung':'高雄'}\n",
    "city=pd.Series(dict1)"
   ]
  },
  {
   "cell_type": "code",
   "execution_count": 27,
   "id": "32fb3c6e",
   "metadata": {},
   "outputs": [
    {
     "name": "stdout",
     "output_type": "stream",
     "text": [
      "taipei      台北\n",
      "taichung    台中\n",
      "dtype: object\n"
     ]
    }
   ],
   "source": [
    "print(city['taipei':'taichung'])"
   ]
  },
  {
   "cell_type": "code",
   "execution_count": 20,
   "id": "79a0905c",
   "metadata": {},
   "outputs": [
    {
     "data": {
      "text/plain": [
       "2"
      ]
     },
     "execution_count": 20,
     "metadata": {},
     "output_type": "execute_result"
    }
   ],
   "source": [
    "hipandas[1]"
   ]
  },
  {
   "cell_type": "code",
   "execution_count": 21,
   "id": "8f8e42d4",
   "metadata": {},
   "outputs": [
    {
     "data": {
      "text/plain": [
       "3"
      ]
     },
     "execution_count": 21,
     "metadata": {},
     "output_type": "execute_result"
    }
   ],
   "source": [
    "hipandas[2]"
   ]
  },
  {
   "cell_type": "code",
   "execution_count": 22,
   "id": "b7c68519",
   "metadata": {},
   "outputs": [],
   "source": [
    "se1=pd.Series([1,2,3,4,5],index=['a','b','c','d','e'])"
   ]
  },
  {
   "cell_type": "code",
   "execution_count": 24,
   "id": "aee1478a",
   "metadata": {},
   "outputs": [
    {
     "data": {
      "text/plain": [
       "1"
      ]
     },
     "execution_count": 24,
     "metadata": {},
     "output_type": "execute_result"
    }
   ],
   "source": [
    "se1['a']"
   ]
  },
  {
   "cell_type": "code",
   "execution_count": 25,
   "id": "84a24ec1",
   "metadata": {},
   "outputs": [
    {
     "data": {
      "text/plain": [
       "2"
      ]
     },
     "execution_count": 25,
     "metadata": {},
     "output_type": "execute_result"
    }
   ],
   "source": [
    "se1['b']"
   ]
  },
  {
   "cell_type": "code",
   "execution_count": 28,
   "id": "0df7fe15",
   "metadata": {},
   "outputs": [
    {
     "data": {
      "text/html": [
       "<div>\n",
       "<style scoped>\n",
       "    .dataframe tbody tr th:only-of-type {\n",
       "        vertical-align: middle;\n",
       "    }\n",
       "\n",
       "    .dataframe tbody tr th {\n",
       "        vertical-align: top;\n",
       "    }\n",
       "\n",
       "    .dataframe thead th {\n",
       "        text-align: right;\n",
       "    }\n",
       "</style>\n",
       "<table border=\"1\" class=\"dataframe\">\n",
       "  <thead>\n",
       "    <tr style=\"text-align: right;\">\n",
       "      <th></th>\n",
       "      <th>0</th>\n",
       "      <th>1</th>\n",
       "      <th>2</th>\n",
       "    </tr>\n",
       "  </thead>\n",
       "  <tbody>\n",
       "    <tr>\n",
       "      <th>0</th>\n",
       "      <td>64</td>\n",
       "      <td>200</td>\n",
       "      <td>32</td>\n",
       "    </tr>\n",
       "    <tr>\n",
       "      <th>1</th>\n",
       "      <td>90</td>\n",
       "      <td>234</td>\n",
       "      <td>453</td>\n",
       "    </tr>\n",
       "    <tr>\n",
       "      <th>2</th>\n",
       "      <td>74</td>\n",
       "      <td>33</td>\n",
       "      <td>22</td>\n",
       "    </tr>\n",
       "    <tr>\n",
       "      <th>3</th>\n",
       "      <td>67</td>\n",
       "      <td>33</td>\n",
       "      <td>77</td>\n",
       "    </tr>\n",
       "  </tbody>\n",
       "</table>\n",
       "</div>"
      ],
      "text/plain": [
       "    0    1    2\n",
       "0  64  200   32\n",
       "1  90  234  453\n",
       "2  74   33   22\n",
       "3  67   33   77"
      ]
     },
     "execution_count": 28,
     "metadata": {},
     "output_type": "execute_result"
    }
   ],
   "source": [
    "df=pd.DataFrame([[64,200,32],\n",
    "                [90,234,453],\n",
    "                [74,33,22],\n",
    "                [67,33,77]])\n",
    "df"
   ]
  },
  {
   "cell_type": "code",
   "execution_count": 42,
   "id": "3c10d614",
   "metadata": {},
   "outputs": [
    {
     "data": {
      "text/html": [
       "<div>\n",
       "<style scoped>\n",
       "    .dataframe tbody tr th:only-of-type {\n",
       "        vertical-align: middle;\n",
       "    }\n",
       "\n",
       "    .dataframe tbody tr th {\n",
       "        vertical-align: top;\n",
       "    }\n",
       "\n",
       "    .dataframe thead th {\n",
       "        text-align: right;\n",
       "    }\n",
       "</style>\n",
       "<table border=\"1\" class=\"dataframe\">\n",
       "  <thead>\n",
       "    <tr style=\"text-align: right;\">\n",
       "      <th></th>\n",
       "      <th>0</th>\n",
       "      <th>1</th>\n",
       "      <th>2</th>\n",
       "    </tr>\n",
       "  </thead>\n",
       "  <tbody>\n",
       "    <tr>\n",
       "      <th>小王</th>\n",
       "      <td>64</td>\n",
       "      <td>200</td>\n",
       "      <td>32</td>\n",
       "    </tr>\n",
       "    <tr>\n",
       "      <th>小莉</th>\n",
       "      <td>90</td>\n",
       "      <td>234</td>\n",
       "      <td>453</td>\n",
       "    </tr>\n",
       "    <tr>\n",
       "      <th>小陳</th>\n",
       "      <td>74</td>\n",
       "      <td>33</td>\n",
       "      <td>22</td>\n",
       "    </tr>\n",
       "    <tr>\n",
       "      <th>小張</th>\n",
       "      <td>67</td>\n",
       "      <td>33</td>\n",
       "      <td>77</td>\n",
       "    </tr>\n",
       "  </tbody>\n",
       "</table>\n",
       "</div>"
      ],
      "text/plain": [
       "     0    1    2\n",
       "小王  64  200   32\n",
       "小莉  90  234  453\n",
       "小陳  74   33   22\n",
       "小張  67   33   77"
      ]
     },
     "execution_count": 42,
     "metadata": {},
     "output_type": "execute_result"
    }
   ],
   "source": [
    "df2=pd.DataFrame([[64,200,32],\n",
    "                [90,234,453],\n",
    "                [74,33,22],\n",
    "                [67,33,77]],\n",
    "                index=['小王','小莉','小陳','小張'])\n",
    "\n",
    "df2"
   ]
  },
  {
   "cell_type": "code",
   "execution_count": 44,
   "id": "dcdaa476",
   "metadata": {},
   "outputs": [
    {
     "data": {
      "text/html": [
       "<div>\n",
       "<style scoped>\n",
       "    .dataframe tbody tr th:only-of-type {\n",
       "        vertical-align: middle;\n",
       "    }\n",
       "\n",
       "    .dataframe tbody tr th {\n",
       "        vertical-align: top;\n",
       "    }\n",
       "\n",
       "    .dataframe thead th {\n",
       "        text-align: right;\n",
       "    }\n",
       "</style>\n",
       "<table border=\"1\" class=\"dataframe\">\n",
       "  <thead>\n",
       "    <tr style=\"text-align: right;\">\n",
       "      <th></th>\n",
       "      <th>國文</th>\n",
       "      <th>英文</th>\n",
       "      <th>數學</th>\n",
       "      <th>自然</th>\n",
       "      <th>社會</th>\n",
       "    </tr>\n",
       "  </thead>\n",
       "  <tbody>\n",
       "    <tr>\n",
       "      <th>王小明</th>\n",
       "      <td>65</td>\n",
       "      <td>92</td>\n",
       "      <td>80</td>\n",
       "      <td>90</td>\n",
       "      <td>92</td>\n",
       "    </tr>\n",
       "    <tr>\n",
       "      <th>李小美</th>\n",
       "      <td>90</td>\n",
       "      <td>72</td>\n",
       "      <td>44</td>\n",
       "      <td>72</td>\n",
       "      <td>56</td>\n",
       "    </tr>\n",
       "    <tr>\n",
       "      <th>陳大同</th>\n",
       "      <td>81</td>\n",
       "      <td>66</td>\n",
       "      <td>85</td>\n",
       "      <td>34</td>\n",
       "      <td>86</td>\n",
       "    </tr>\n",
       "    <tr>\n",
       "      <th>林小玉</th>\n",
       "      <td>79</td>\n",
       "      <td>53</td>\n",
       "      <td>68</td>\n",
       "      <td>98</td>\n",
       "      <td>33</td>\n",
       "    </tr>\n",
       "  </tbody>\n",
       "</table>\n",
       "</div>"
      ],
      "text/plain": [
       "     國文  英文  數學  自然  社會\n",
       "王小明  65  92  80  90  92\n",
       "李小美  90  72  44  72  56\n",
       "陳大同  81  66  85  34  86\n",
       "林小玉  79  53  68  98  33"
      ]
     },
     "execution_count": 44,
     "metadata": {},
     "output_type": "execute_result"
    }
   ],
   "source": [
    "scores={'國文':{'王小明':65,'李小美':90,'陳大同':81,'林小玉':79},\n",
    "        '英文':{'王小明':92,'李小美':72,'陳大同':66,'林小玉':53},\n",
    "        '數學':{'王小明':80,'李小美':44,'陳大同':85,'林小玉':68},\n",
    "        '自然':{'王小明':90,'李小美':72,'陳大同':34,'林小玉':98},\n",
    "        '社會':{'王小明':92,'李小美':56,'陳大同':86,'林小玉':33}}\n",
    "df3=pd.DataFrame(scores)\n",
    "df3"
   ]
  },
  {
   "cell_type": "code",
   "execution_count": 45,
   "id": "534cbe5c",
   "metadata": {},
   "outputs": [
    {
     "data": {
      "text/html": [
       "<div>\n",
       "<style scoped>\n",
       "    .dataframe tbody tr th:only-of-type {\n",
       "        vertical-align: middle;\n",
       "    }\n",
       "\n",
       "    .dataframe tbody tr th {\n",
       "        vertical-align: top;\n",
       "    }\n",
       "\n",
       "    .dataframe thead th {\n",
       "        text-align: right;\n",
       "    }\n",
       "</style>\n",
       "<table border=\"1\" class=\"dataframe\">\n",
       "  <thead>\n",
       "    <tr style=\"text-align: right;\">\n",
       "      <th></th>\n",
       "      <th>國文</th>\n",
       "      <th>英文</th>\n",
       "      <th>數學</th>\n",
       "      <th>自然</th>\n",
       "      <th>社會</th>\n",
       "    </tr>\n",
       "  </thead>\n",
       "  <tbody>\n",
       "    <tr>\n",
       "      <th>王小明</th>\n",
       "      <td>65</td>\n",
       "      <td>92</td>\n",
       "      <td>78</td>\n",
       "      <td>83</td>\n",
       "      <td>70</td>\n",
       "    </tr>\n",
       "    <tr>\n",
       "      <th>李小美</th>\n",
       "      <td>90</td>\n",
       "      <td>72</td>\n",
       "      <td>76</td>\n",
       "      <td>93</td>\n",
       "      <td>56</td>\n",
       "    </tr>\n",
       "    <tr>\n",
       "      <th>陳大同</th>\n",
       "      <td>81</td>\n",
       "      <td>85</td>\n",
       "      <td>91</td>\n",
       "      <td>89</td>\n",
       "      <td>94</td>\n",
       "    </tr>\n",
       "    <tr>\n",
       "      <th>林小玉</th>\n",
       "      <td>79</td>\n",
       "      <td>53</td>\n",
       "      <td>47</td>\n",
       "      <td>94</td>\n",
       "      <td>80</td>\n",
       "    </tr>\n",
       "  </tbody>\n",
       "</table>\n",
       "</div>"
      ],
      "text/plain": [
       "     國文  英文  數學  自然  社會\n",
       "王小明  65  92  78  83  70\n",
       "李小美  90  72  76  93  56\n",
       "陳大同  81  85  91  89  94\n",
       "林小玉  79  53  47  94  80"
      ]
     },
     "execution_count": 45,
     "metadata": {},
     "output_type": "execute_result"
    }
   ],
   "source": [
    "se1 = pd.Series({'王小明':65,'李小美':90,'陳大同':81,'林小玉':79})\n",
    "se2 = pd.Series({'王小明':92,'李小美':72,'陳大同':85,'林小玉':53})\n",
    "se3 = pd.Series({'王小明':78,'李小美':76,'陳大同':91,'林小玉':47})\n",
    "se4 = pd.Series({'王小明':83,'李小美':93,'陳大同':89,'林小玉':94})\n",
    "se5 = pd.Series({'王小明':70,'李小美':56,'陳大同':94,'林小玉':80})\n",
    "df3 = pd.DataFrame({ '國文':se1,'英文':se2,'數學':se3,\n",
    "                   '自然':se4,'社會':se5} )\n",
    "df3"
   ]
  },
  {
   "cell_type": "code",
   "execution_count": 46,
   "id": "3a870d1d",
   "metadata": {},
   "outputs": [
    {
     "data": {
      "text/html": [
       "<div>\n",
       "<style scoped>\n",
       "    .dataframe tbody tr th:only-of-type {\n",
       "        vertical-align: middle;\n",
       "    }\n",
       "\n",
       "    .dataframe tbody tr th {\n",
       "        vertical-align: top;\n",
       "    }\n",
       "\n",
       "    .dataframe thead th {\n",
       "        text-align: right;\n",
       "    }\n",
       "</style>\n",
       "<table border=\"1\" class=\"dataframe\">\n",
       "  <thead>\n",
       "    <tr style=\"text-align: right;\">\n",
       "      <th></th>\n",
       "      <th>國文</th>\n",
       "      <th>英文</th>\n",
       "      <th>數學</th>\n",
       "      <th>自然</th>\n",
       "      <th>社會</th>\n",
       "    </tr>\n",
       "  </thead>\n",
       "  <tbody>\n",
       "    <tr>\n",
       "      <th>王小明</th>\n",
       "      <td>65</td>\n",
       "      <td>92</td>\n",
       "      <td>78</td>\n",
       "      <td>83</td>\n",
       "      <td>70</td>\n",
       "    </tr>\n",
       "    <tr>\n",
       "      <th>李小美</th>\n",
       "      <td>90</td>\n",
       "      <td>72</td>\n",
       "      <td>76</td>\n",
       "      <td>93</td>\n",
       "      <td>56</td>\n",
       "    </tr>\n",
       "    <tr>\n",
       "      <th>陳大同</th>\n",
       "      <td>81</td>\n",
       "      <td>85</td>\n",
       "      <td>91</td>\n",
       "      <td>89</td>\n",
       "      <td>94</td>\n",
       "    </tr>\n",
       "    <tr>\n",
       "      <th>林小玉</th>\n",
       "      <td>79</td>\n",
       "      <td>53</td>\n",
       "      <td>47</td>\n",
       "      <td>94</td>\n",
       "      <td>80</td>\n",
       "    </tr>\n",
       "  </tbody>\n",
       "</table>\n",
       "</div>"
      ],
      "text/plain": [
       "     國文  英文  數學  自然  社會\n",
       "王小明  65  92  78  83  70\n",
       "李小美  90  72  76  93  56\n",
       "陳大同  81  85  91  89  94\n",
       "林小玉  79  53  47  94  80"
      ]
     },
     "execution_count": 46,
     "metadata": {},
     "output_type": "execute_result"
    }
   ],
   "source": [
    "se1 = pd.Series({'王小明':65,'李小美':90,'陳大同':81,'林小玉':79})\n",
    "se2 = pd.Series({'王小明':92,'李小美':72,'陳大同':85,'林小玉':53})\n",
    "se3 = pd.Series({'王小明':78,'李小美':76,'陳大同':91,'林小玉':47})\n",
    "se4 = pd.Series({'王小明':83,'李小美':93,'陳大同':89,'林小玉':94})\n",
    "se5 = pd.Series({'王小明':70,'李小美':56,'陳大同':94,'林小玉':80})\n",
    "df4 = pd.concat([se1,se2,se3,se4,se5], axis=1)\n",
    "df4.columns=['國文','英文','數學','自然','社會']\n",
    "df4"
   ]
  },
  {
   "cell_type": "code",
   "execution_count": 47,
   "id": "65fd58d4",
   "metadata": {},
   "outputs": [
    {
     "data": {
      "text/plain": [
       "王小明    83\n",
       "李小美    93\n",
       "陳大同    89\n",
       "林小玉    94\n",
       "Name: 自然, dtype: int64"
      ]
     },
     "execution_count": 47,
     "metadata": {},
     "output_type": "execute_result"
    }
   ],
   "source": [
    "df4[\"自然\"]"
   ]
  },
  {
   "cell_type": "code",
   "execution_count": 49,
   "id": "7ba05341",
   "metadata": {},
   "outputs": [
    {
     "data": {
      "text/html": [
       "<div>\n",
       "<style scoped>\n",
       "    .dataframe tbody tr th:only-of-type {\n",
       "        vertical-align: middle;\n",
       "    }\n",
       "\n",
       "    .dataframe tbody tr th {\n",
       "        vertical-align: top;\n",
       "    }\n",
       "\n",
       "    .dataframe thead th {\n",
       "        text-align: right;\n",
       "    }\n",
       "</style>\n",
       "<table border=\"1\" class=\"dataframe\">\n",
       "  <thead>\n",
       "    <tr style=\"text-align: right;\">\n",
       "      <th></th>\n",
       "      <th>自然</th>\n",
       "      <th>英文</th>\n",
       "    </tr>\n",
       "  </thead>\n",
       "  <tbody>\n",
       "    <tr>\n",
       "      <th>王小明</th>\n",
       "      <td>83</td>\n",
       "      <td>92</td>\n",
       "    </tr>\n",
       "    <tr>\n",
       "      <th>李小美</th>\n",
       "      <td>93</td>\n",
       "      <td>72</td>\n",
       "    </tr>\n",
       "    <tr>\n",
       "      <th>陳大同</th>\n",
       "      <td>89</td>\n",
       "      <td>85</td>\n",
       "    </tr>\n",
       "    <tr>\n",
       "      <th>林小玉</th>\n",
       "      <td>94</td>\n",
       "      <td>53</td>\n",
       "    </tr>\n",
       "  </tbody>\n",
       "</table>\n",
       "</div>"
      ],
      "text/plain": [
       "     自然  英文\n",
       "王小明  83  92\n",
       "李小美  93  72\n",
       "陳大同  89  85\n",
       "林小玉  94  53"
      ]
     },
     "execution_count": 49,
     "metadata": {},
     "output_type": "execute_result"
    }
   ],
   "source": [
    "df4[[\"自然\",\"英文\"]]"
   ]
  },
  {
   "cell_type": "markdown",
   "id": "b69ed927",
   "metadata": {},
   "source": []
  },
  {
   "cell_type": "code",
   "execution_count": 50,
   "id": "a9f559c2",
   "metadata": {},
   "outputs": [
    {
     "data": {
      "text/html": [
       "<div>\n",
       "<style scoped>\n",
       "    .dataframe tbody tr th:only-of-type {\n",
       "        vertical-align: middle;\n",
       "    }\n",
       "\n",
       "    .dataframe tbody tr th {\n",
       "        vertical-align: top;\n",
       "    }\n",
       "\n",
       "    .dataframe thead th {\n",
       "        text-align: right;\n",
       "    }\n",
       "</style>\n",
       "<table border=\"1\" class=\"dataframe\">\n",
       "  <thead>\n",
       "    <tr style=\"text-align: right;\">\n",
       "      <th></th>\n",
       "      <th>國文</th>\n",
       "      <th>英文</th>\n",
       "      <th>數學</th>\n",
       "      <th>自然</th>\n",
       "      <th>社會</th>\n",
       "    </tr>\n",
       "  </thead>\n",
       "  <tbody>\n",
       "    <tr>\n",
       "      <th>王小明</th>\n",
       "      <td>65</td>\n",
       "      <td>92</td>\n",
       "      <td>78</td>\n",
       "      <td>83</td>\n",
       "      <td>70</td>\n",
       "    </tr>\n",
       "    <tr>\n",
       "      <th>李小美</th>\n",
       "      <td>90</td>\n",
       "      <td>72</td>\n",
       "      <td>76</td>\n",
       "      <td>93</td>\n",
       "      <td>56</td>\n",
       "    </tr>\n",
       "    <tr>\n",
       "      <th>陳大同</th>\n",
       "      <td>81</td>\n",
       "      <td>85</td>\n",
       "      <td>91</td>\n",
       "      <td>89</td>\n",
       "      <td>94</td>\n",
       "    </tr>\n",
       "  </tbody>\n",
       "</table>\n",
       "</div>"
      ],
      "text/plain": [
       "     國文  英文  數學  自然  社會\n",
       "王小明  65  92  78  83  70\n",
       "李小美  90  72  76  93  56\n",
       "陳大同  81  85  91  89  94"
      ]
     },
     "execution_count": 50,
     "metadata": {},
     "output_type": "execute_result"
    }
   ],
   "source": [
    "df4[df4[\"數學\"]>=70]"
   ]
  },
  {
   "cell_type": "code",
   "execution_count": 53,
   "id": "7abe07d8",
   "metadata": {},
   "outputs": [
    {
     "data": {
      "text/html": [
       "<div>\n",
       "<style scoped>\n",
       "    .dataframe tbody tr th:only-of-type {\n",
       "        vertical-align: middle;\n",
       "    }\n",
       "\n",
       "    .dataframe tbody tr th {\n",
       "        vertical-align: top;\n",
       "    }\n",
       "\n",
       "    .dataframe thead th {\n",
       "        text-align: right;\n",
       "    }\n",
       "</style>\n",
       "<table border=\"1\" class=\"dataframe\">\n",
       "  <thead>\n",
       "    <tr style=\"text-align: right;\">\n",
       "      <th></th>\n",
       "      <th>國文</th>\n",
       "      <th>英文</th>\n",
       "      <th>數學</th>\n",
       "      <th>自然</th>\n",
       "      <th>社會</th>\n",
       "    </tr>\n",
       "  </thead>\n",
       "  <tbody>\n",
       "    <tr>\n",
       "      <th>李小美</th>\n",
       "      <td>90</td>\n",
       "      <td>72</td>\n",
       "      <td>76</td>\n",
       "      <td>93</td>\n",
       "      <td>56</td>\n",
       "    </tr>\n",
       "    <tr>\n",
       "      <th>林小玉</th>\n",
       "      <td>79</td>\n",
       "      <td>53</td>\n",
       "      <td>47</td>\n",
       "      <td>94</td>\n",
       "      <td>80</td>\n",
       "    </tr>\n",
       "  </tbody>\n",
       "</table>\n",
       "</div>"
      ],
      "text/plain": [
       "     國文  英文  數學  自然  社會\n",
       "李小美  90  72  76  93  56\n",
       "林小玉  79  53  47  94  80"
      ]
     },
     "execution_count": 53,
     "metadata": {},
     "output_type": "execute_result"
    }
   ],
   "source": [
    "df4[df4[\"英文\"]<=80]"
   ]
  },
  {
   "cell_type": "code",
   "execution_count": 54,
   "id": "957c3418",
   "metadata": {},
   "outputs": [
    {
     "data": {
      "text/plain": [
       "array([[65, 92, 78, 83, 70],\n",
       "       [90, 72, 76, 93, 56],\n",
       "       [81, 85, 91, 89, 94],\n",
       "       [79, 53, 47, 94, 80]], dtype=int64)"
      ]
     },
     "execution_count": 54,
     "metadata": {},
     "output_type": "execute_result"
    }
   ],
   "source": [
    "df4.values"
   ]
  },
  {
   "cell_type": "code",
   "execution_count": 58,
   "id": "c5c967f5",
   "metadata": {},
   "outputs": [
    {
     "data": {
      "text/html": [
       "<div>\n",
       "<style scoped>\n",
       "    .dataframe tbody tr th:only-of-type {\n",
       "        vertical-align: middle;\n",
       "    }\n",
       "\n",
       "    .dataframe tbody tr th {\n",
       "        vertical-align: top;\n",
       "    }\n",
       "\n",
       "    .dataframe thead th {\n",
       "        text-align: right;\n",
       "    }\n",
       "</style>\n",
       "<table border=\"1\" class=\"dataframe\">\n",
       "  <thead>\n",
       "    <tr style=\"text-align: right;\">\n",
       "      <th></th>\n",
       "      <th>數學</th>\n",
       "      <th>自然</th>\n",
       "    </tr>\n",
       "  </thead>\n",
       "  <tbody>\n",
       "    <tr>\n",
       "      <th>王小明</th>\n",
       "      <td>78</td>\n",
       "      <td>83</td>\n",
       "    </tr>\n",
       "    <tr>\n",
       "      <th>李小美</th>\n",
       "      <td>76</td>\n",
       "      <td>93</td>\n",
       "    </tr>\n",
       "  </tbody>\n",
       "</table>\n",
       "</div>"
      ],
      "text/plain": [
       "     數學  自然\n",
       "王小明  78  83\n",
       "李小美  76  93"
      ]
     },
     "execution_count": 58,
     "metadata": {},
     "output_type": "execute_result"
    }
   ],
   "source": [
    "df4.loc[[\"王小明\",\"李小美\"],[\"數學\",\"自然\"]]"
   ]
  },
  {
   "cell_type": "code",
   "execution_count": 59,
   "id": "0d7c31ab",
   "metadata": {},
   "outputs": [
    {
     "data": {
      "text/html": [
       "<div>\n",
       "<style scoped>\n",
       "    .dataframe tbody tr th:only-of-type {\n",
       "        vertical-align: middle;\n",
       "    }\n",
       "\n",
       "    .dataframe tbody tr th {\n",
       "        vertical-align: top;\n",
       "    }\n",
       "\n",
       "    .dataframe thead th {\n",
       "        text-align: right;\n",
       "    }\n",
       "</style>\n",
       "<table border=\"1\" class=\"dataframe\">\n",
       "  <thead>\n",
       "    <tr style=\"text-align: right;\">\n",
       "      <th></th>\n",
       "      <th>英文</th>\n",
       "      <th>數學</th>\n",
       "    </tr>\n",
       "  </thead>\n",
       "  <tbody>\n",
       "    <tr>\n",
       "      <th>王小明</th>\n",
       "      <td>92</td>\n",
       "      <td>78</td>\n",
       "    </tr>\n",
       "    <tr>\n",
       "      <th>李小美</th>\n",
       "      <td>72</td>\n",
       "      <td>76</td>\n",
       "    </tr>\n",
       "    <tr>\n",
       "      <th>陳大同</th>\n",
       "      <td>85</td>\n",
       "      <td>91</td>\n",
       "    </tr>\n",
       "    <tr>\n",
       "      <th>林小玉</th>\n",
       "      <td>53</td>\n",
       "      <td>47</td>\n",
       "    </tr>\n",
       "  </tbody>\n",
       "</table>\n",
       "</div>"
      ],
      "text/plain": [
       "     英文  數學\n",
       "王小明  92  78\n",
       "李小美  72  76\n",
       "陳大同  85  91\n",
       "林小玉  53  47"
      ]
     },
     "execution_count": 59,
     "metadata": {},
     "output_type": "execute_result"
    }
   ],
   "source": [
    "df4.loc[\"王小明\":,\"英文\":\"數學\"]"
   ]
  },
  {
   "cell_type": "code",
   "execution_count": 60,
   "id": "4f6c9b36",
   "metadata": {},
   "outputs": [
    {
     "data": {
      "text/plain": [
       "國文    79\n",
       "英文    53\n",
       "數學    47\n",
       "自然    94\n",
       "社會    80\n",
       "Name: 林小玉, dtype: int64"
      ]
     },
     "execution_count": 60,
     "metadata": {},
     "output_type": "execute_result"
    }
   ],
   "source": [
    "df4.loc[\"林小玉\",:]"
   ]
  },
  {
   "cell_type": "code",
   "execution_count": null,
   "id": "d5bd2d14",
   "metadata": {},
   "outputs": [],
   "source": []
  }
 ],
 "metadata": {
  "kernelspec": {
   "display_name": "Python 3 (ipykernel)",
   "language": "python",
   "name": "python3"
  },
  "language_info": {
   "codemirror_mode": {
    "name": "ipython",
    "version": 3
   },
   "file_extension": ".py",
   "mimetype": "text/x-python",
   "name": "python",
   "nbconvert_exporter": "python",
   "pygments_lexer": "ipython3",
   "version": "3.9.12"
  }
 },
 "nbformat": 4,
 "nbformat_minor": 5
}
