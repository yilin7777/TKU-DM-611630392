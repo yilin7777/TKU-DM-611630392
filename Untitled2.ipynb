{
 "cells": [
  {
   "cell_type": "code",
   "execution_count": 6,
   "id": "968b10f8-8fa1-4d2e-b1b3-f90d86ed6ae6",
   "metadata": {},
   "outputs": [
    {
     "name": "stdin",
     "output_type": "stream",
     "text": [
      "請輸入數學分數：  50\n",
      "請輸入英文分數：  60\n",
      "請輸入國文分數：  70\n"
     ]
    },
    {
     "name": "stdout",
     "output_type": "stream",
     "text": [
      "總成績為 180\n"
     ]
    }
   ],
   "source": [
    "數學= int(input(\"請輸入數學分數： \"))\n",
    "英文= int(input(\"請輸入英文分數： \"))\n",
    "國文= int(input(\"請輸入國文分數： \"))\n",
    "total = (數學+英文+國文)\n",
    "print(\"總成績為\", total)"
   ]
  },
  {
   "cell_type": "code",
   "execution_count": null,
   "id": "4d268737-7331-430c-ad85-7d025e3266f3",
   "metadata": {},
   "outputs": [],
   "source": []
  }
 ],
 "metadata": {
  "kernelspec": {
   "display_name": "Python 3 (ipykernel)",
   "language": "python",
   "name": "python3"
  },
  "language_info": {
   "codemirror_mode": {
    "name": "ipython",
    "version": 3
   },
   "file_extension": ".py",
   "mimetype": "text/x-python",
   "name": "python",
   "nbconvert_exporter": "python",
   "pygments_lexer": "ipython3",
   "version": "3.9.12"
  }
 },
 "nbformat": 4,
 "nbformat_minor": 5
}
